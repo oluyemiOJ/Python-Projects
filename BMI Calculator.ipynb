{
 "cells": [
  {
   "cell_type": "markdown",
   "id": "336bcc93",
   "metadata": {},
   "source": [
    "# BMI Calculator"
   ]
  },
  {
   "cell_type": "code",
   "execution_count": 1,
   "id": "b2306cac",
   "metadata": {},
   "outputs": [
    {
     "name": "stdout",
     "output_type": "stream",
     "text": [
      "Joshua\n"
     ]
    }
   ],
   "source": [
    "weight = input()"
   ]
  },
  {
   "cell_type": "code",
   "execution_count": 2,
   "id": "b1e5768a",
   "metadata": {},
   "outputs": [
    {
     "name": "stdout",
     "output_type": "stream",
     "text": [
      "Joshua\n"
     ]
    }
   ],
   "source": [
    "print(weight)"
   ]
  },
  {
   "cell_type": "code",
   "execution_count": 26,
   "id": "c74feabe",
   "metadata": {},
   "outputs": [
    {
     "name": "stdout",
     "output_type": "stream",
     "text": [
      "Enter your name: Joshua\n",
      "Enter your weight in pounds: 170\n",
      "Enter your height in inches: 69\n",
      "25.101869355177485\n",
      "Joshua, you are Overweight.\n"
     ]
    }
   ],
   "source": [
    "name = input (\"Enter your name: \")\n",
    "\n",
    "weight = int(input(\"Enter your weight in pounds: \"))\n",
    "\n",
    "height = int(input(\"Enter your height in inches: \"))\n",
    "\n",
    "BMI = (weight * 703) / (height * height)\n",
    "\n",
    "print(BMI)\n",
    "\n",
    "\n",
    "\n",
    "if BMI>0:\n",
    "    if(BMI<18.5):\n",
    "        print(name +\", you are underweight.\")\n",
    "    elif(BMI<=24.9):\n",
    "        print(name +\", you are Normal weight.\")\n",
    "    elif(BMI<29.9):\n",
    "        print(name +\", you are Overweight.\") \n",
    "    elif(BMI<=34.9):\n",
    "        print(name +\", you are Obese.\")\n",
    "    elif(BMI<39.9):\n",
    "        print(name +\", you are Severely Obese.\") \n",
    "    elif(BMI>= 40):\n",
    "        print(name +\", you are Morbidly.\") \n",
    "    else:\n",
    "        print(name +\", enter valid inputs\")\n"
   ]
  },
  {
   "cell_type": "code",
   "execution_count": 11,
   "id": "c2fda5f1",
   "metadata": {},
   "outputs": [],
   "source": []
  },
  {
   "cell_type": "code",
   "execution_count": null,
   "id": "6b9f3a37",
   "metadata": {},
   "outputs": [],
   "source": []
  },
  {
   "cell_type": "code",
   "execution_count": null,
   "id": "98219853",
   "metadata": {},
   "outputs": [],
   "source": []
  },
  {
   "cell_type": "code",
   "execution_count": null,
   "id": "18dea9dc",
   "metadata": {},
   "outputs": [],
   "source": []
  },
  {
   "cell_type": "code",
   "execution_count": null,
   "id": "65eae731",
   "metadata": {},
   "outputs": [],
   "source": []
  },
  {
   "cell_type": "code",
   "execution_count": null,
   "id": "10853266",
   "metadata": {},
   "outputs": [],
   "source": [
    "under 18.5 -> Underweight -> Minimal\n",
    "18.5 - 24.9 -> Normal weight -> Minimal\n",
    "25 - 29.9 -> Overweight -> Increased\n",
    "30 - 34.9 -> Obese -> High\n",
    "35 - 39.9 -> Severely Obese -> Very High\n",
    "40 and over -> Morbidly -> Very High\n",
    "      "
   ]
  },
  {
   "cell_type": "code",
   "execution_count": 22,
   "id": "ee275283",
   "metadata": {},
   "outputs": [
    {
     "name": "stdout",
     "output_type": "stream",
     "text": [
      "Joshua, you are Overweight.\n"
     ]
    }
   ],
   "source": [
    "if BMI>0:\n",
    "    if(BMI<18.5):\n",
    "        print(name +\", you are underweight.\")\n",
    "    elif(BMI<=24.9):\n",
    "        print(name +\", you are Normal weight.\")\n",
    "    elif(BMI<29.9):\n",
    "        print(name +\", you are Overweight.\") \n",
    "    elif(BMI<=34.9):\n",
    "        print(name +\", you are Obese.\")\n",
    "    elif(BMI<39.9):\n",
    "        print(name +\", you are Severely Obese.\") \n",
    "    elif(BMI>= 40):\n",
    "        print(name +\", you are Morbidly.\") \n",
    "    else:\n",
    "        print(name +\", enter valid inputs\")"
   ]
  },
  {
   "cell_type": "code",
   "execution_count": null,
   "id": "ef8e4c17",
   "metadata": {},
   "outputs": [],
   "source": []
  },
  {
   "cell_type": "code",
   "execution_count": null,
   "id": "7d9a4cda",
   "metadata": {},
   "outputs": [],
   "source": []
  },
  {
   "cell_type": "code",
   "execution_count": null,
   "id": "2bf59979",
   "metadata": {},
   "outputs": [],
   "source": []
  }
 ],
 "metadata": {
  "kernelspec": {
   "display_name": "Python 3 (ipykernel)",
   "language": "python",
   "name": "python3"
  },
  "language_info": {
   "codemirror_mode": {
    "name": "ipython",
    "version": 3
   },
   "file_extension": ".py",
   "mimetype": "text/x-python",
   "name": "python",
   "nbconvert_exporter": "python",
   "pygments_lexer": "ipython3",
   "version": "3.10.9"
  }
 },
 "nbformat": 4,
 "nbformat_minor": 5
}
